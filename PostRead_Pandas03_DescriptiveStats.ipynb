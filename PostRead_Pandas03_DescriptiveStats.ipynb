{
  "cells": [
    {
      "cell_type": "markdown",
      "metadata": {
        "id": "view-in-github",
        "colab_type": "text"
      },
      "source": [
        "<a href=\"https://colab.research.google.com/github/costaivo/quotes-app/blob/main/PostRead_Pandas03_DescriptiveStats.ipynb\" target=\"_parent\"><img src=\"https://colab.research.google.com/assets/colab-badge.svg\" alt=\"Open In Colab\"/></a>"
      ]
    },
    {
      "cell_type": "markdown",
      "id": "6c6ef389",
      "metadata": {
        "id": "6c6ef389"
      },
      "source": [
        "# Supplementary Post Read for Basic Descriptive Statistics\n",
        "\n"
      ]
    },
    {
      "cell_type": "markdown",
      "source": [
        "## Content\n",
        "\n",
        "\n",
        "  - **Basic Descriptive Statistics**\n",
        "\n",
        "    - Measures of central tendency - `mean`, `median`, `mode`\n",
        "    - Measure of Variability/Dispersion\n",
        "    - Percentile, Quantile, IQR"
      ],
      "metadata": {
        "id": "0Odh4GImwrQv"
      },
      "id": "0Odh4GImwrQv"
    },
    {
      "cell_type": "code",
      "execution_count": null,
      "id": "311ff12a",
      "metadata": {
        "id": "311ff12a"
      },
      "outputs": [],
      "source": [
        "import pandas as pd"
      ]
    },
    {
      "cell_type": "code",
      "source": [
        "!gdown 1A1tfiarU4O21EoRdsANyhqi39I9eISjr"
      ],
      "metadata": {
        "colab": {
          "base_uri": "https://localhost:8080/"
        },
        "id": "cM1WgenHTwP1",
        "outputId": "27afcf90-c608-4cb3-ab59-f12f514acf2d"
      },
      "id": "cM1WgenHTwP1",
      "execution_count": null,
      "outputs": [
        {
          "output_type": "stream",
          "name": "stdout",
          "text": [
            "Downloading...\n",
            "From: https://drive.google.com/uc?id=1A1tfiarU4O21EoRdsANyhqi39I9eISjr\n",
            "To: /content/descriptive_stats_data.csv\n",
            "\r  0% 0.00/106k [00:00<?, ?B/s]\r100% 106k/106k [00:00<00:00, 57.0MB/s]\n"
          ]
        }
      ]
    },
    {
      "cell_type": "code",
      "source": [
        "data = pd.read_csv('/content/descriptive_stats_data.csv')"
      ],
      "metadata": {
        "id": "wyQdQuJ7TlGX"
      },
      "id": "wyQdQuJ7TlGX",
      "execution_count": null,
      "outputs": []
    },
    {
      "cell_type": "code",
      "source": [
        "data"
      ],
      "metadata": {
        "colab": {
          "base_uri": "https://localhost:8080/",
          "height": 424
        },
        "id": "3y5txVo7T2YP",
        "outputId": "4098dc58-6a34-4453-8d86-a0059594f337"
      },
      "id": "3y5txVo7T2YP",
      "execution_count": null,
      "outputs": [
        {
          "output_type": "execute_result",
          "data": {
            "text/plain": [
              "      Unnamed: 0           START_DATE             END_DATE  CATEGORY  \\\n",
              "0              0  2016-01-01 21:11:00  2016-01-01 21:17:00  Business   \n",
              "1              1  2016-01-02 01:25:00  2016-01-02 01:37:00  Business   \n",
              "2              2  2016-01-02 20:25:00  2016-01-02 20:38:00  Business   \n",
              "3              3  2016-01-05 17:31:00  2016-01-05 17:45:00  Business   \n",
              "4              4  2016-01-06 14:42:00  2016-01-06 15:49:00  Business   \n",
              "...          ...                  ...                  ...       ...   \n",
              "1145        1150  2016-12-31 01:07:00  2016-12-31 01:14:00  Business   \n",
              "1146        1151  2016-12-31 13:24:00  2016-12-31 13:42:00  Business   \n",
              "1147        1152  2016-12-31 15:03:00  2016-12-31 15:38:00  Business   \n",
              "1148        1153  2016-12-31 21:32:00  2016-12-31 21:50:00  Business   \n",
              "1149        1154  2016-12-31 22:08:00  2016-12-31 23:51:00  Business   \n",
              "\n",
              "                 START              STOP  MILES          PURPOSE  year  \n",
              "0          Fort Pierce       Fort Pierce    5.1   Meal/Entertain  2016  \n",
              "1          Fort Pierce       Fort Pierce    5.0              NaN  2016  \n",
              "2          Fort Pierce       Fort Pierce    4.8  Errand/Supplies  2016  \n",
              "3          Fort Pierce       Fort Pierce    4.7          Meeting  2016  \n",
              "4          Fort Pierce   West Palm Beach   63.7   Customer Visit  2016  \n",
              "...                ...               ...    ...              ...   ...  \n",
              "1145           Kar?chi           Kar?chi    0.7          Meeting  2016  \n",
              "1146           Kar?chi  Unknown Location    3.9   Temporary Site  2016  \n",
              "1147  Unknown Location  Unknown Location   16.2          Meeting  2016  \n",
              "1148        Katunayake           Gampaha    6.4   Temporary Site  2016  \n",
              "1149           Gampaha         Ilukwatta   48.2   Temporary Site  2016  \n",
              "\n",
              "[1150 rows x 9 columns]"
            ],
            "text/html": [
              "\n",
              "  <div id=\"df-3e1b3a32-85d1-478a-b3e9-9ccb4ac1edcc\">\n",
              "    <div class=\"colab-df-container\">\n",
              "      <div>\n",
              "<style scoped>\n",
              "    .dataframe tbody tr th:only-of-type {\n",
              "        vertical-align: middle;\n",
              "    }\n",
              "\n",
              "    .dataframe tbody tr th {\n",
              "        vertical-align: top;\n",
              "    }\n",
              "\n",
              "    .dataframe thead th {\n",
              "        text-align: right;\n",
              "    }\n",
              "</style>\n",
              "<table border=\"1\" class=\"dataframe\">\n",
              "  <thead>\n",
              "    <tr style=\"text-align: right;\">\n",
              "      <th></th>\n",
              "      <th>Unnamed: 0</th>\n",
              "      <th>START_DATE</th>\n",
              "      <th>END_DATE</th>\n",
              "      <th>CATEGORY</th>\n",
              "      <th>START</th>\n",
              "      <th>STOP</th>\n",
              "      <th>MILES</th>\n",
              "      <th>PURPOSE</th>\n",
              "      <th>year</th>\n",
              "    </tr>\n",
              "  </thead>\n",
              "  <tbody>\n",
              "    <tr>\n",
              "      <th>0</th>\n",
              "      <td>0</td>\n",
              "      <td>2016-01-01 21:11:00</td>\n",
              "      <td>2016-01-01 21:17:00</td>\n",
              "      <td>Business</td>\n",
              "      <td>Fort Pierce</td>\n",
              "      <td>Fort Pierce</td>\n",
              "      <td>5.1</td>\n",
              "      <td>Meal/Entertain</td>\n",
              "      <td>2016</td>\n",
              "    </tr>\n",
              "    <tr>\n",
              "      <th>1</th>\n",
              "      <td>1</td>\n",
              "      <td>2016-01-02 01:25:00</td>\n",
              "      <td>2016-01-02 01:37:00</td>\n",
              "      <td>Business</td>\n",
              "      <td>Fort Pierce</td>\n",
              "      <td>Fort Pierce</td>\n",
              "      <td>5.0</td>\n",
              "      <td>NaN</td>\n",
              "      <td>2016</td>\n",
              "    </tr>\n",
              "    <tr>\n",
              "      <th>2</th>\n",
              "      <td>2</td>\n",
              "      <td>2016-01-02 20:25:00</td>\n",
              "      <td>2016-01-02 20:38:00</td>\n",
              "      <td>Business</td>\n",
              "      <td>Fort Pierce</td>\n",
              "      <td>Fort Pierce</td>\n",
              "      <td>4.8</td>\n",
              "      <td>Errand/Supplies</td>\n",
              "      <td>2016</td>\n",
              "    </tr>\n",
              "    <tr>\n",
              "      <th>3</th>\n",
              "      <td>3</td>\n",
              "      <td>2016-01-05 17:31:00</td>\n",
              "      <td>2016-01-05 17:45:00</td>\n",
              "      <td>Business</td>\n",
              "      <td>Fort Pierce</td>\n",
              "      <td>Fort Pierce</td>\n",
              "      <td>4.7</td>\n",
              "      <td>Meeting</td>\n",
              "      <td>2016</td>\n",
              "    </tr>\n",
              "    <tr>\n",
              "      <th>4</th>\n",
              "      <td>4</td>\n",
              "      <td>2016-01-06 14:42:00</td>\n",
              "      <td>2016-01-06 15:49:00</td>\n",
              "      <td>Business</td>\n",
              "      <td>Fort Pierce</td>\n",
              "      <td>West Palm Beach</td>\n",
              "      <td>63.7</td>\n",
              "      <td>Customer Visit</td>\n",
              "      <td>2016</td>\n",
              "    </tr>\n",
              "    <tr>\n",
              "      <th>...</th>\n",
              "      <td>...</td>\n",
              "      <td>...</td>\n",
              "      <td>...</td>\n",
              "      <td>...</td>\n",
              "      <td>...</td>\n",
              "      <td>...</td>\n",
              "      <td>...</td>\n",
              "      <td>...</td>\n",
              "      <td>...</td>\n",
              "    </tr>\n",
              "    <tr>\n",
              "      <th>1145</th>\n",
              "      <td>1150</td>\n",
              "      <td>2016-12-31 01:07:00</td>\n",
              "      <td>2016-12-31 01:14:00</td>\n",
              "      <td>Business</td>\n",
              "      <td>Kar?chi</td>\n",
              "      <td>Kar?chi</td>\n",
              "      <td>0.7</td>\n",
              "      <td>Meeting</td>\n",
              "      <td>2016</td>\n",
              "    </tr>\n",
              "    <tr>\n",
              "      <th>1146</th>\n",
              "      <td>1151</td>\n",
              "      <td>2016-12-31 13:24:00</td>\n",
              "      <td>2016-12-31 13:42:00</td>\n",
              "      <td>Business</td>\n",
              "      <td>Kar?chi</td>\n",
              "      <td>Unknown Location</td>\n",
              "      <td>3.9</td>\n",
              "      <td>Temporary Site</td>\n",
              "      <td>2016</td>\n",
              "    </tr>\n",
              "    <tr>\n",
              "      <th>1147</th>\n",
              "      <td>1152</td>\n",
              "      <td>2016-12-31 15:03:00</td>\n",
              "      <td>2016-12-31 15:38:00</td>\n",
              "      <td>Business</td>\n",
              "      <td>Unknown Location</td>\n",
              "      <td>Unknown Location</td>\n",
              "      <td>16.2</td>\n",
              "      <td>Meeting</td>\n",
              "      <td>2016</td>\n",
              "    </tr>\n",
              "    <tr>\n",
              "      <th>1148</th>\n",
              "      <td>1153</td>\n",
              "      <td>2016-12-31 21:32:00</td>\n",
              "      <td>2016-12-31 21:50:00</td>\n",
              "      <td>Business</td>\n",
              "      <td>Katunayake</td>\n",
              "      <td>Gampaha</td>\n",
              "      <td>6.4</td>\n",
              "      <td>Temporary Site</td>\n",
              "      <td>2016</td>\n",
              "    </tr>\n",
              "    <tr>\n",
              "      <th>1149</th>\n",
              "      <td>1154</td>\n",
              "      <td>2016-12-31 22:08:00</td>\n",
              "      <td>2016-12-31 23:51:00</td>\n",
              "      <td>Business</td>\n",
              "      <td>Gampaha</td>\n",
              "      <td>Ilukwatta</td>\n",
              "      <td>48.2</td>\n",
              "      <td>Temporary Site</td>\n",
              "      <td>2016</td>\n",
              "    </tr>\n",
              "  </tbody>\n",
              "</table>\n",
              "<p>1150 rows × 9 columns</p>\n",
              "</div>\n",
              "      <button class=\"colab-df-convert\" onclick=\"convertToInteractive('df-3e1b3a32-85d1-478a-b3e9-9ccb4ac1edcc')\"\n",
              "              title=\"Convert this dataframe to an interactive table.\"\n",
              "              style=\"display:none;\">\n",
              "        \n",
              "  <svg xmlns=\"http://www.w3.org/2000/svg\" height=\"24px\"viewBox=\"0 0 24 24\"\n",
              "       width=\"24px\">\n",
              "    <path d=\"M0 0h24v24H0V0z\" fill=\"none\"/>\n",
              "    <path d=\"M18.56 5.44l.94 2.06.94-2.06 2.06-.94-2.06-.94-.94-2.06-.94 2.06-2.06.94zm-11 1L8.5 8.5l.94-2.06 2.06-.94-2.06-.94L8.5 2.5l-.94 2.06-2.06.94zm10 10l.94 2.06.94-2.06 2.06-.94-2.06-.94-.94-2.06-.94 2.06-2.06.94z\"/><path d=\"M17.41 7.96l-1.37-1.37c-.4-.4-.92-.59-1.43-.59-.52 0-1.04.2-1.43.59L10.3 9.45l-7.72 7.72c-.78.78-.78 2.05 0 2.83L4 21.41c.39.39.9.59 1.41.59.51 0 1.02-.2 1.41-.59l7.78-7.78 2.81-2.81c.8-.78.8-2.07 0-2.86zM5.41 20L4 18.59l7.72-7.72 1.47 1.35L5.41 20z\"/>\n",
              "  </svg>\n",
              "      </button>\n",
              "      \n",
              "  <style>\n",
              "    .colab-df-container {\n",
              "      display:flex;\n",
              "      flex-wrap:wrap;\n",
              "      gap: 12px;\n",
              "    }\n",
              "\n",
              "    .colab-df-convert {\n",
              "      background-color: #E8F0FE;\n",
              "      border: none;\n",
              "      border-radius: 50%;\n",
              "      cursor: pointer;\n",
              "      display: none;\n",
              "      fill: #1967D2;\n",
              "      height: 32px;\n",
              "      padding: 0 0 0 0;\n",
              "      width: 32px;\n",
              "    }\n",
              "\n",
              "    .colab-df-convert:hover {\n",
              "      background-color: #E2EBFA;\n",
              "      box-shadow: 0px 1px 2px rgba(60, 64, 67, 0.3), 0px 1px 3px 1px rgba(60, 64, 67, 0.15);\n",
              "      fill: #174EA6;\n",
              "    }\n",
              "\n",
              "    [theme=dark] .colab-df-convert {\n",
              "      background-color: #3B4455;\n",
              "      fill: #D2E3FC;\n",
              "    }\n",
              "\n",
              "    [theme=dark] .colab-df-convert:hover {\n",
              "      background-color: #434B5C;\n",
              "      box-shadow: 0px 1px 3px 1px rgba(0, 0, 0, 0.15);\n",
              "      filter: drop-shadow(0px 1px 2px rgba(0, 0, 0, 0.3));\n",
              "      fill: #FFFFFF;\n",
              "    }\n",
              "  </style>\n",
              "\n",
              "      <script>\n",
              "        const buttonEl =\n",
              "          document.querySelector('#df-3e1b3a32-85d1-478a-b3e9-9ccb4ac1edcc button.colab-df-convert');\n",
              "        buttonEl.style.display =\n",
              "          google.colab.kernel.accessAllowed ? 'block' : 'none';\n",
              "\n",
              "        async function convertToInteractive(key) {\n",
              "          const element = document.querySelector('#df-3e1b3a32-85d1-478a-b3e9-9ccb4ac1edcc');\n",
              "          const dataTable =\n",
              "            await google.colab.kernel.invokeFunction('convertToInteractive',\n",
              "                                                     [key], {});\n",
              "          if (!dataTable) return;\n",
              "\n",
              "          const docLinkHtml = 'Like what you see? Visit the ' +\n",
              "            '<a target=\"_blank\" href=https://colab.research.google.com/notebooks/data_table.ipynb>data table notebook</a>'\n",
              "            + ' to learn more about interactive tables.';\n",
              "          element.innerHTML = '';\n",
              "          dataTable['output_type'] = 'display_data';\n",
              "          await google.colab.output.renderOutput(dataTable, element);\n",
              "          const docLink = document.createElement('div');\n",
              "          docLink.innerHTML = docLinkHtml;\n",
              "          element.appendChild(docLink);\n",
              "        }\n",
              "      </script>\n",
              "    </div>\n",
              "  </div>\n",
              "  "
            ]
          },
          "metadata": {},
          "execution_count": 8
        }
      ]
    },
    {
      "cell_type": "markdown",
      "source": [
        "## Basic Descriptive Statistics\n",
        "\n"
      ],
      "metadata": {
        "id": "yepkqrIM9gor"
      },
      "id": "yepkqrIM9gor"
    },
    {
      "cell_type": "markdown",
      "source": [
        "### Measures of central tendency\n",
        "\n",
        "#### Now what if you want to find out what will be the estimate distance of future ride based on previous data\n",
        "\n",
        "#### Which estimate should we use ?\n",
        "\n",
        "-  The most basic estimate of location is the mean or average value.\n",
        "-  It is the sum of all values by the number of values.\n",
        "- Mean:\n",
        "$\\bar{x} = \\sum_{i=1}^n \\frac{x_i}{n}$\n"
      ],
      "metadata": {
        "id": "vbszuBqDQRpD"
      },
      "id": "vbszuBqDQRpD"
    },
    {
      "cell_type": "code",
      "source": [
        "data['MILES'].mean()"
      ],
      "metadata": {
        "colab": {
          "base_uri": "https://localhost:8080/"
        },
        "id": "Tz4J_b91-OWw",
        "outputId": "9b5ec3af-ad36-44d1-bfbf-73e00ad04517"
      },
      "id": "Tz4J_b91-OWw",
      "execution_count": null,
      "outputs": [
        {
          "output_type": "execute_result",
          "data": {
            "text/plain": [
              "10.584608695652161"
            ]
          },
          "metadata": {},
          "execution_count": 9
        }
      ]
    },
    {
      "cell_type": "markdown",
      "source": [
        "Lets check the min and max value of miles in the table"
      ],
      "metadata": {
        "id": "jkIRrfcABepo"
      },
      "id": "jkIRrfcABepo"
    },
    {
      "cell_type": "markdown",
      "source": [
        "In our case few customers are taken a ride of long distances and because of that the average miles are biased.\n",
        "\n",
        "To avoid this problem we some estimator which is robust to extreme values.\n",
        "\n",
        "#### What could be a robust estimator?\n",
        "  \n",
        "One example is **median**.\n",
        "\n",
        "#### What is median ?\n",
        "\n",
        "  - It is the middle value on sorted ata. \n",
        "  \n",
        "#### How is median more robust than mean ?\n",
        "  \n",
        "  - Mean uses the complete data\n",
        "  \n",
        "  - Median only depends on the values in the center of the sorted data.\n",
        "  \n",
        "  - So it is not impacted by the extreme values (outliers).\n",
        "\n",
        "\n",
        "  - Example:\n",
        "    - If you want to estimate the income of Mumbai people. \n",
        "    - The south bombay people will have an advantage\n",
        "    - Since Mukesh Ambani lives there, and adding his income to take the average will have a huge impact\n",
        "    - And hence the average income of people in that area will be high. \n",
        "    - Instead of average the right metric over here would be the median.\n",
        "\n",
        "Lets calculate median of the miles now"
      ],
      "metadata": {
        "id": "TcLoNyXZB3gf"
      },
      "id": "TcLoNyXZB3gf"
    },
    {
      "cell_type": "code",
      "source": [
        "data['MILES'].median()"
      ],
      "metadata": {
        "colab": {
          "base_uri": "https://localhost:8080/"
        },
        "id": "jZ6qsakjGoD_",
        "outputId": "c84cb45a-21f9-405b-ccc2-437d89141766"
      },
      "id": "jZ6qsakjGoD_",
      "execution_count": null,
      "outputs": [
        {
          "output_type": "execute_result",
          "data": {
            "text/plain": [
              "6.0"
            ]
          },
          "metadata": {},
          "execution_count": 10
        }
      ]
    },
    {
      "cell_type": "markdown",
      "source": [
        "Median is lesser than mean\n",
        "\n",
        "#### What do we understand from these medians ?\n",
        "\n",
        "- Only a few people travel long distances through cabs\n",
        " \n",
        "- Because of their journey the overall mean is shifted towards the max value.\n",
        "\n",
        "- Also, the maximum value of mile is much higher than their mean.\n",
        "\n",
        "- This shows that the data was **skewed** towards the maximum.\n",
        "\n",
        "- These extreme values are giving an inaccurate analysis of the data.\n",
        "\n",
        "- Such values in any feature/column that are very distant from the others are called **outliers**\n",
        "\n",
        "\n",
        "#### But why do outliers occur in a data ?\n",
        "\n",
        "- Because of errors while entering the data\n",
        "  - Eg: change in the units, instead of meters data is inserted in kilometers.\n",
        "\n",
        "- Because of anomalies in a few samples\n",
        "\n",
        "Now we know what outliers are and why they are a problem\n",
        "\n",
        "#### So how should we treat outliers ?\n",
        "\n",
        "1. Remove them\n",
        "  - Common when only very few outliers exist\n",
        "\n",
        "2. Handle them using algorithms:\n",
        "  Eg: SVM, KNN etc\n",
        "\n",
        "  You will study more about this later\n",
        "\n",
        "Note: If there are too many outliers in a dataset, then it might even become invalid\n",
        "\n",
        "####Lets say if you want to know what is the most common purpose to book a cab\n",
        "\n",
        "- Mode will hep us in finding the answer to this question\n",
        "\n",
        "- `Mean, Median and Mode` are together called **Measures of Central Tendency**\n",
        "\n",
        "#### And what is `Mode` ?\n",
        "  - Feature value which occurs most frequently\n",
        "  - In case of numeric features : Feature value that is most likely to occur\n",
        "\n",
        "Lets check it for `PURPOSE` feature in our dataset"
      ],
      "metadata": {
        "id": "bkYTPvhwHeBX"
      },
      "id": "bkYTPvhwHeBX"
    },
    {
      "cell_type": "code",
      "source": [
        "data['PURPOSE'].value_counts()"
      ],
      "metadata": {
        "colab": {
          "base_uri": "https://localhost:8080/"
        },
        "id": "aCbWrgPAmjPp",
        "outputId": "370d1840-75dc-4527-a0fc-d4ae68a26b74"
      },
      "id": "aCbWrgPAmjPp",
      "execution_count": null,
      "outputs": [
        {
          "output_type": "execute_result",
          "data": {
            "text/plain": [
              "Meeting            186\n",
              "Meal/Entertain     160\n",
              "Errand/Supplies    128\n",
              "Customer Visit     101\n",
              "Temporary Site      50\n",
              "Between Offices     18\n",
              "Moving               4\n",
              "Airport/Travel       3\n",
              "Charity ($)          1\n",
              "Commute              1\n",
              "Name: PURPOSE, dtype: int64"
            ]
          },
          "metadata": {},
          "execution_count": 11
        }
      ]
    },
    {
      "cell_type": "markdown",
      "source": [
        "#### What can we see here?\n",
        "  - People belonging to \"Meeting\" category is maximum\n",
        "  - Hence \"Meeting\" is the **mode** for this feature."
      ],
      "metadata": {
        "id": "MW-FpV6dniAa"
      },
      "id": "MW-FpV6dniAa"
    },
    {
      "cell_type": "markdown",
      "source": [
        "### Measures of Variability\n",
        "\n",
        "\n",
        "#### So is median enough for understanding the distance of future journey ?\n",
        "  - No, because we don't know about how data is spread of the data\n",
        "\n",
        "This is known as **variability in the dataset**\n",
        "\n",
        "#### When to use variablity?\n",
        "\n",
        "- To understand the diversity in the sample/customers.\n",
        "\n",
        "#### How can we calculate variability ?\n",
        "\n",
        "- There are different ways to measure the dispersion.\n",
        "\n",
        "- One simple approach is Mean absolute deviation.\n",
        "\n",
        "#### What is Mean absolute deviation ?\n",
        "\n",
        "- Mathematically, \n",
        "  - Mean absolute deviation : $ \\sum_{i=1}^n \\frac{|x_i- \\bar{x}|}{n}$\\\n",
        "where $\\bar{x}$ is sample mean.\n",
        "\n",
        "If want a metric which is more sensitive to large deviation, we can do square instead\n",
        "\n",
        "#### What should we use in this case ?\n",
        "\n",
        "- **Variance** : $ s^2 =   \\frac{\\sum_{i=1}^n(x_i- \\bar{x})^2}{n}$\n",
        "\n",
        "- **Standard deviation** :  $ s = \\sqrt{Variance} $\n",
        "\n",
        "- Standard deviation is much easier to interpret than variance\n",
        "\n",
        "- Since it is on the same scale as the original data.\n",
        "\n",
        "So lets calculate standard deviation and find out deviation in our dataset."
      ],
      "metadata": {
        "id": "wkzlm9BXn0bs"
      },
      "id": "wkzlm9BXn0bs"
    },
    {
      "cell_type": "code",
      "source": [
        "data['MILES'].std()"
      ],
      "metadata": {
        "colab": {
          "base_uri": "https://localhost:8080/"
        },
        "id": "LQ4GuNMopkbc",
        "outputId": "7d462954-574a-430c-b3fb-c89b020dcee2"
      },
      "id": "LQ4GuNMopkbc",
      "execution_count": null,
      "outputs": [
        {
          "output_type": "execute_result",
          "data": {
            "text/plain": [
              "21.62324116259871"
            ]
          },
          "metadata": {},
          "execution_count": 12
        }
      ]
    },
    {
      "cell_type": "markdown",
      "source": [
        "#### What can we see here?\n",
        "\n",
        "- Large deviation in  miles\n",
        "- Data is spread extremely\n",
        "\n",
        "\n",
        "\n",
        "#### But whats the problem with these deviation estimates\n",
        "  - Neither of them are robust to outliers\n",
        "  - #### Why are they not robust ?\n",
        "    - They use mean for their calculations\n",
        "\n",
        "#### What can be a robust deviation estimator then ?\n",
        "\n",
        "- A robust estimate of variablity is Median absolute deviation (MAD)\n",
        "- MAD = $ Median(|x_1 - m|, |x_2 - m|, ... , |x_N - m|)$\\\n",
        "where m = median \n",
        "\n",
        "Lets calculate this now"
      ],
      "metadata": {
        "id": "0LBDyjxfp1q_"
      },
      "id": "0LBDyjxfp1q_"
    },
    {
      "cell_type": "code",
      "source": [
        "from scipy import stats"
      ],
      "metadata": {
        "id": "jsqi7HnwqQTF"
      },
      "id": "jsqi7HnwqQTF",
      "execution_count": null,
      "outputs": []
    },
    {
      "cell_type": "code",
      "source": [
        "print(stats.median_absolute_deviation(data['MILES']))"
      ],
      "metadata": {
        "colab": {
          "base_uri": "https://localhost:8080/"
        },
        "id": "889JwgtZqSJP",
        "outputId": "7a4a7efa-11cc-478f-d6a7-58abd121f0dc"
      },
      "id": "889JwgtZqSJP",
      "execution_count": null,
      "outputs": [
        {
          "output_type": "stream",
          "name": "stdout",
          "text": [
            "5.485619999999999\n"
          ]
        }
      ]
    },
    {
      "cell_type": "markdown",
      "source": [
        "What if we want an estimate that is almost completely unaffected by outliers\n",
        "\n",
        "One such estimate is known as **Estimate of Percentiles**\n",
        "\n",
        "#### What is Estimate of Percentiles ?\n",
        "\n",
        "- It is the estimating dispersion based on looking at the spread of the sorted data.\n",
        "\n",
        "- $p^{th}$ percentile - at least p percent of the values take <= this value.\n",
        "  - Eg: Median is same as 50th percentile.\n",
        "\n",
        "Lets calculate 30th percentile of MILES"
      ],
      "metadata": {
        "id": "Qhd_wkgtqoC8"
      },
      "id": "Qhd_wkgtqoC8"
    },
    {
      "cell_type": "code",
      "source": [
        "import numpy as np"
      ],
      "metadata": {
        "id": "FurilCL2q2n_"
      },
      "id": "FurilCL2q2n_",
      "execution_count": null,
      "outputs": []
    },
    {
      "cell_type": "code",
      "source": [
        "# 30% of the customers take ride less than 3.2 miles\n",
        "np.percentile(data['MILES'], 30)"
      ],
      "metadata": {
        "colab": {
          "base_uri": "https://localhost:8080/"
        },
        "id": "oTwaawgEqyM8",
        "outputId": "5925f797-ba5a-42ae-85eb-b43d648593df"
      },
      "id": "oTwaawgEqyM8",
      "execution_count": null,
      "outputs": [
        {
          "output_type": "execute_result",
          "data": {
            "text/plain": [
              "3.2"
            ]
          },
          "metadata": {},
          "execution_count": 16
        }
      ]
    },
    {
      "cell_type": "markdown",
      "source": [
        "This is much less than the maximum value which we found before\n",
        "\n",
        "\n",
        "25th, 50th, 75th Percentiles are known as Quantiles (Q1, Q2, Q3 resp.)\n",
        "\n",
        "**Difference between Q3 - Q1** is also used for measuring variability\n",
        "\n",
        "Also called as **Interquartile range(IQR).**\n",
        "\n",
        "#### Why is IQR used as a measure of variability ?\n",
        "  - Q1 to Q3 contain 50% of data\n",
        "  - 75th and 50th percentile do not contain extreme values\n",
        "\n",
        "Lets check the IQR values of these features now"
      ],
      "metadata": {
        "id": "buUv12bDrmBI"
      },
      "id": "buUv12bDrmBI"
    },
    {
      "cell_type": "code",
      "source": [
        "stats.iqr(data['MILES'])"
      ],
      "metadata": {
        "colab": {
          "base_uri": "https://localhost:8080/"
        },
        "id": "HbWJktSVr7Uh",
        "outputId": "082601dc-df8c-4203-de9b-c59fe9f241cc"
      },
      "id": "HbWJktSVr7Uh",
      "execution_count": null,
      "outputs": [
        {
          "output_type": "execute_result",
          "data": {
            "text/plain": [
              "7.5"
            ]
          },
          "metadata": {},
          "execution_count": 17
        }
      ]
    },
    {
      "cell_type": "markdown",
      "source": [
        "\n",
        "#### How to identify outliers using this?\n",
        "- According to 1.5IQR rule outliers are :\n",
        "  - Points below Q1-1.5IQR\n",
        "  - Points above Q3+1.5IQR\n",
        "- We will study more about this in later lectures."
      ],
      "metadata": {
        "id": "sJm9s8scsElO"
      },
      "id": "sJm9s8scsElO"
    }
  ],
  "metadata": {
    "kernelspec": {
      "display_name": "Python 3",
      "language": "python",
      "name": "python3"
    },
    "language_info": {
      "codemirror_mode": {
        "name": "ipython",
        "version": 3
      },
      "file_extension": ".py",
      "mimetype": "text/x-python",
      "name": "python",
      "nbconvert_exporter": "python",
      "pygments_lexer": "ipython3",
      "version": "3.8.8"
    },
    "colab": {
      "name": "PostRead-Pandas03-DescriptiveStats.ipynb",
      "provenance": [],
      "collapsed_sections": [
        "MW-FpV6dniAa"
      ],
      "include_colab_link": true
    }
  },
  "nbformat": 4,
  "nbformat_minor": 5
}